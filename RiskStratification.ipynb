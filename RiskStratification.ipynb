{
 "cells": [
  {
   "cell_type": "code",
   "execution_count": 1,
   "id": "f1dcb7d1-1aec-4959-a217-216b12e1c60e",
   "metadata": {},
   "outputs": [
    {
     "name": "stderr",
     "output_type": "stream",
     "text": [
      "Intel(R) Extension for Scikit-learn* enabled (https://github.com/intel/scikit-learn-intelex)\n"
     ]
    }
   ],
   "source": [
    "import pandas as pd \n",
    "import numpy as np\n",
    "from tqdm import tqdm\n",
    "from sklearn.model_selection import *\n",
    "import seaborn as sns\n",
    "import matplotlib.pyplot as plt\n",
    "from sklearn.impute import KNNImputer,SimpleImputer\n",
    "from sklearn.preprocessing import MinMaxScaler\n",
    "from sklearn.ensemble import RandomForestClassifier\n",
    "from sklearn.metrics import *\n",
    "from sklearn.inspection import permutation_importance\n",
    "from sklearn import metrics\n",
    "from sklearn.preprocessing import PolynomialFeatures\n",
    "import xgboost as xgb\n",
    "from sklearn.svm import SVC\n",
    "from sklearn import linear_model\n",
    "from sklearnex import patch_sklearn\n",
    "from imblearn.over_sampling import SMOTE\n",
    "from imblearn.over_sampling import BorderlineSMOTE\n",
    "from imblearn.over_sampling import SVMSMOTE\n",
    "from imblearn.over_sampling import ADASYN\n",
    "\n",
    "patch_sklearn()\n",
    "%matplotlib inline"
   ]
  },
  {
   "cell_type": "code",
   "execution_count": 2,
   "id": "4bb2e2c2-e337-472b-aaad-1bf37479ee8f",
   "metadata": {},
   "outputs": [],
   "source": [
    "def smote(x, y, c):\n",
    "    if c==1:\n",
    "        oversample = SMOTE()\n",
    "    elif c==2:\n",
    "        oversample = BorderlineSMOTE()\n",
    "    elif c==3:\n",
    "        oversample = SVMSMOTE()\n",
    "    elif c==0:\n",
    "        oversample = ADASYN()\n",
    "\n",
    "    return oversample.fit_resample(x, y)"
   ]
  },
  {
   "cell_type": "markdown",
   "id": "61281fd5-fb02-4f22-9608-48517d190bbb",
   "metadata": {},
   "source": [
    "## Read Data"
   ]
  },
  {
   "cell_type": "code",
   "execution_count": 3,
   "id": "23837842-0822-49d2-b5fc-4a27d50672f9",
   "metadata": {},
   "outputs": [
    {
     "name": "stdout",
     "output_type": "stream",
     "text": [
      "544\n"
     ]
    }
   ],
   "source": [
    "# df = pd.read_excel(\"../data/newData/MergedImputed.xlsx\")\n",
    "df = pd.read_excel(\"./data/MergedImputed_TimeConstrained.xlsx\")\n",
    "\n",
    "print(len(df[\"Patient ID\"].unique()))"
   ]
  },
  {
   "cell_type": "markdown",
   "id": "63c2aca3-328d-4933-8766-0417e82ff8b0",
   "metadata": {},
   "source": [
    "## Drop features with more than 80% missing values"
   ]
  },
  {
   "cell_type": "code",
   "execution_count": 4,
   "id": "ff417828-efaa-4548-9f90-0016afd798df",
   "metadata": {},
   "outputs": [
    {
     "name": "stdout",
     "output_type": "stream",
     "text": [
      "16179\n",
      "15648\n",
      "{'SPO2 Supplimental O2', 'Band Cell_CBC (Complete Blood Count) EDTA', 'Atypical Large Cell_CBC (Complete Blood Count) EDTA', 'N', 'Nucleated RBCs_CBC (Complete Blood Count) EDTA', 'S Gene', 'ORF Gene', 'Comment(HbA1C)_Glycosylated Haemoglobin (HbA1C) EDTA', 'Metamyelocyte Cell_CBC (Complete Blood Count) EDTA', 'Comment :_CBC (Complete Blood Count) EDTA', 'Myelocyte Cell_CBC (Complete Blood Count) EDTA', 'Corrected TLC_CBC (Complete Blood Count) EDTA', 'Blasts_CBC (Complete Blood Count) EDTA'}\n",
      "544\n"
     ]
    }
   ],
   "source": [
    "ignore = ['Patient ID', 'Sample Date Time','Date of Discharge']\n",
    "\n",
    "df_dropped = df.dropna(thresh=int(len(df)*0.2),axis=1)\n",
    "\n",
    "columns_for_dups = []\n",
    "for i in list(df_dropped):\n",
    "    if i in ignore:\n",
    "        continue\n",
    "    else:\n",
    "        columns_for_dups.append(i)\n",
    "\n",
    "print (len(df_dropped))\n",
    "df_dropped = df_dropped.drop_duplicates(subset = columns_for_dups)\n",
    "\n",
    "print (len(df_dropped))\n",
    "print (set(list(df))-set(list(df_dropped)))\n",
    "df_dropped\n",
    "print(len(df_dropped[\"Patient ID\"].unique()))"
   ]
  },
  {
   "cell_type": "markdown",
   "id": "d67acfa2-4c10-42c5-b9b8-9212afa7a8db",
   "metadata": {},
   "source": [
    "## Features to be Considered"
   ]
  },
  {
   "cell_type": "code",
   "execution_count": 5,
   "id": "014a67c4-d40b-496b-962b-0fef27a45897",
   "metadata": {},
   "outputs": [
    {
     "name": "stdout",
     "output_type": "stream",
     "text": [
      "63\n"
     ]
    }
   ],
   "source": [
    "features = [\n",
    " 'Basophils_CBC (Complete Blood Count) EDTA',\n",
    " 'Eosinophils_CBC (Complete Blood Count) EDTA',\n",
    " 'Haemoglobin_CBC (Complete Blood Count) EDTA',\n",
    " 'Lymphocytes_CBC (Complete Blood Count) EDTA',\n",
    " 'MCH_CBC (Complete Blood Count) EDTA',\n",
    " 'MCHC_CBC (Complete Blood Count) EDTA',\n",
    " 'MCV_CBC (Complete Blood Count) EDTA',\n",
    " 'Monocytes_CBC (Complete Blood Count) EDTA',\n",
    " 'Neutrophils_CBC (Complete Blood Count) EDTA',\n",
    " 'Packed Cell  Volume_CBC (Complete Blood Count) EDTA',\n",
    " 'Platelet Count_CBC (Complete Blood Count) EDTA',\n",
    " 'RDW_CBC (Complete Blood Count) EDTA',\n",
    " 'Total Leucocyte Count (TLC)_CBC (Complete Blood Count) EDTA',\n",
    " 'Absolute Lymphocyte Count_CBC (Complete Blood Count) EDTA',\n",
    " 'Absolute Neutrophil Count_CBC (Complete Blood Count) EDTA',\n",
    " 'Absolute Monocyte Count_CBC (Complete Blood Count) EDTA',\n",
    " 'RBC Count_CBC (Complete Blood Count) EDTA',\n",
    " 'MPV_CBC (Complete Blood Count) EDTA',\n",
    " 'Gender',\n",
    " 'Age',\n",
    " 'Height',\n",
    " 'Weight',\n",
    " 'BMI',\n",
    " 'Temperature',\n",
    " 'BP Systolic',\n",
    " 'BP Diastolic',\n",
    " 'Pulse Rate',\n",
    " 'SPO2 Room Air',\n",
    " 'Respiration Rate',\n",
    " 'Pregnancy',\n",
    " 'Hypertension',\n",
    " 'Diabetes',\n",
    " 'Cancer',\n",
    " 'Hyperlipidemia/dislipidemia',\n",
    " 'Thyroid',\n",
    " 'Heart/Circulatory System',\n",
    " 'Respiratory',\n",
    " 'Brain/Nervous System',\n",
    " 'Renal',\n",
    " 'Liver',\n",
    " 'Other',\n",
    " 'E',\n",
    " 'RdRp',\n",
    " 'Absolute Eosinophil Count_CBC (Complete Blood Count) EDTA',\n",
    " 'Procalcitonin Level_Procalcitonin*  Serum',\n",
    " 'Absolute Basophil Count_CBC (Complete Blood Count) EDTA',\n",
    " 'INR_Prothrombin Time (with INR) Citrate Plasma',\n",
    " 'Prothrombin Time (PT)_Prothrombin Time (with INR) Citrate Plasma',\n",
    " 'MNPT Value_Prothrombin Time (with INR) Citrate Plasma',\n",
    " 'Glycosylated Haemoglobin(Hb A1c)_Glycosylated Haemoglobin (HbA1C) EDTA',\n",
    " 'Average Glucose Value For the Last 3 Months_Glycosylated Haemoglobin (HbA1C) EDTA',\n",
    " 'Average Glucose Value For the Last 3 Months IFCC_Glycosylated Haemoglobin (HbA1C) EDTA',\n",
    " 'Glycosylated Haemoglobin(Hb A1c) IFCC_Glycosylated Haemoglobin (HbA1C) EDTA',\n",
    " 'Trop I_Trop I Serum (High Sensitive)',\n",
    " 'CK-MB (Mass)_CK- MB (Mass) Serum',\n",
    " '25 Hydroxy- Vitamin D  Serum_25 Hydroxy Vitamin D Level Serum',\n",
    " 'CRP_CRP- C-Reactive Protein',\n",
    " 'Ferritin_Ferritin Serum',\n",
    " 'IL-6_Interleukin -6 (IL-6)',\n",
    " 'D-Dimer  (Quantitative)_D-Dimer  (Quantitative) Citrate Plasma',\n",
    " 'Magnesium_Magnesium Serum',\n",
    " 'LDH_LDH (Lactate Dehydrogenase) Total   Serum',\n",
    " 'Creatine Kinase (CPK)_Creatine Kinase (CPK) Serum',\n",
    "]\n",
    "print (len(features))"
   ]
  },
  {
   "cell_type": "markdown",
   "id": "35330cc0-86e2-4cc6-9ced-46f2715f73ee",
   "metadata": {},
   "source": [
    "### Define Task"
   ]
  },
  {
   "cell_type": "code",
   "execution_count": 6,
   "id": "245737f5-5b44-4a2b-926b-4bd686042da1",
   "metadata": {},
   "outputs": [],
   "source": [
    "# task = 'Severity Class'\n",
    "# task = 'Mortality'\n",
    "task = 'Binary Severity Class'"
   ]
  },
  {
   "cell_type": "markdown",
   "id": "692c4f40-1ba6-4e2b-9b11-53037819698b",
   "metadata": {},
   "source": [
    "### Get Patient IDs"
   ]
  },
  {
   "cell_type": "code",
   "execution_count": 7,
   "id": "d324a408-df2b-4f03-a6e8-ed391327aeb6",
   "metadata": {},
   "outputs": [],
   "source": [
    "X_patients = []\n",
    "Y_patients = []\n",
    "for patient in df_dropped[\"Patient ID\"].unique():\n",
    "    X_patients.append(patient)\n",
    "    Y_patients.append(df_dropped[df_dropped[\"Patient ID\"]==patient].iloc[0][task])\n",
    "def get_positions(array,indices):\n",
    "    output = []\n",
    "    for i in indices:\n",
    "        output.append(array[i])\n",
    "    return output"
   ]
  },
  {
   "cell_type": "markdown",
   "id": "32e1c302-754d-4f6a-8f5d-9251101fffc0",
   "metadata": {},
   "source": [
    "### Split Patient IDs into train test based on a date cutoff"
   ]
  },
  {
   "cell_type": "code",
   "execution_count": 8,
   "id": "86cf4c3a-3dec-481b-8946-6948de5e3390",
   "metadata": {},
   "outputs": [],
   "source": [
    "trainp = df_dropped[df_dropped[\"Date of Discharge\"]<np.datetime64(\"2020-09-11\")][\"Patient ID\"].unique()\n",
    "testp = df_dropped[df_dropped[\"Date of Discharge\"]>np.datetime64(\"2020-09-11\")][\"Patient ID\"].unique()\n",
    "\n",
    "train = df_dropped[df_dropped[\"Patient ID\"].isin(trainp)]\n",
    "test = df_dropped[df_dropped[\"Patient ID\"].isin(testp)]"
   ]
  },
  {
   "cell_type": "markdown",
   "id": "98aadaf7-cb9b-4193-b9e8-f3bbd5afe5fa",
   "metadata": {},
   "source": [
    "## Get Feature Importances"
   ]
  },
  {
   "cell_type": "code",
   "execution_count": 9,
   "id": "1a842a93-1148-4b3a-8d2a-cd92952b3ba4",
   "metadata": {},
   "outputs": [],
   "source": [
    "xg_class = xgb.XGBClassifier(objective ='binary:logistic', gamma = 0, learning_rate=0.2, max_delta_step=0, max_depth=4, min_child_weight=0, reg_lambda=7, subsample=1.0)\n",
    "xg_class.fit(train[features].values, train[task].values)\n",
    "feature_importances = xg_class.feature_importances_"
   ]
  },
  {
   "cell_type": "markdown",
   "id": "87920004-5dc0-47fa-87e4-826a4f2b2532",
   "metadata": {},
   "source": [
    "### Sort Features by Importance"
   ]
  },
  {
   "cell_type": "code",
   "execution_count": 10,
   "id": "da20080a-32ea-40c0-8953-a189d9028486",
   "metadata": {},
   "outputs": [
    {
     "name": "stdout",
     "output_type": "stream",
     "text": [
      "Eosinophils_CBC (Complete Blood Count) EDTA 0.013183848\n",
      "BP Systolic 0.013187185\n",
      "25 Hydroxy- Vitamin D  Serum_25 Hydroxy Vitamin D Level Serum 0.013984598\n",
      "Respiration Rate 0.014299883\n",
      "Heart/Circulatory System 0.015305595\n",
      "RBC Count_CBC (Complete Blood Count) EDTA 0.015453298\n",
      "Weight 0.015462941\n",
      "RdRp 0.015972994\n",
      "Temperature 0.016817015\n",
      "Glycosylated Haemoglobin(Hb A1c)_Glycosylated Haemoglobin (HbA1C) EDTA 0.018825492\n",
      "MCV_CBC (Complete Blood Count) EDTA 0.020201942\n",
      "Respiratory 0.020942941\n",
      "Procalcitonin Level_Procalcitonin*  Serum 0.024399502\n",
      "Absolute Basophil Count_CBC (Complete Blood Count) EDTA 0.025891514\n",
      "Packed Cell  Volume_CBC (Complete Blood Count) EDTA 0.027855901\n",
      "Absolute Eosinophil Count_CBC (Complete Blood Count) EDTA 0.031788405\n",
      "SPO2 Room Air 0.034387566\n",
      "IL-6_Interleukin -6 (IL-6) 0.037122607\n",
      "INR_Prothrombin Time (with INR) Citrate Plasma 0.040556997\n",
      "Ferritin_Ferritin Serum 0.04214232\n",
      "Diabetes 0.0425717\n",
      "Neutrophils_CBC (Complete Blood Count) EDTA 0.046866987\n",
      "Lymphocytes_CBC (Complete Blood Count) EDTA 0.049468216\n",
      "LDH_LDH (Lactate Dehydrogenase) Total   Serum 0.053569034\n",
      "Absolute Neutrophil Count_CBC (Complete Blood Count) EDTA 0.12071192\n"
     ]
    },
    {
     "data": {
      "text/plain": [
       "Text(0.5, 1.0, 'Top 25 Parameters for Risk Stratification')"
      ]
     },
     "execution_count": 10,
     "metadata": {},
     "output_type": "execute_result"
    },
    {
     "data": {
      "image/png": "[encoded data removed]",
      "text/plain": [
       "<Figure size 720x1080 with 1 Axes>"
      ]
     },
     "metadata": {
      "needs_background": "light"
     },
     "output_type": "display_data"
    }
   ],
   "source": [
    "feature_names = []\n",
    "importances = []\n",
    "\n",
    "for i in (feature_importances).argsort()[-25:]:\n",
    "    print (features[i],feature_importances[i])\n",
    "    feature_names.append(features[i].split(\"_\")[0])\n",
    "    importances.append(feature_importances[i])\n",
    "\n",
    "plt.rcParams['figure.figsize'] = [10, 15]\n",
    "plt.barh(feature_names,importances)\n",
    "plt.ylabel(\"Parameters\")\n",
    "plt.xlabel(\"Importance\")\n",
    "plt.title(\"Top 25 Parameters for Risk Stratification\")\n",
    "# plt.savefig(task+\"Top25Features.jpg\",bbox_inches=\"tight\")"
   ]
  },
  {
   "cell_type": "code",
   "execution_count": 11,
   "id": "33ea3259-8cdf-41f9-83f1-294371640e73",
   "metadata": {},
   "outputs": [],
   "source": [
    "X_patients_train = []\n",
    "Y_patients_train = []\n",
    "for patient in train[\"Patient ID\"].unique():\n",
    "    X_patients_train.append(patient)\n",
    "    Y_patients_train.append(df_dropped[df_dropped[\"Patient ID\"]==patient].iloc[0][task])"
   ]
  },
  {
   "cell_type": "markdown",
   "id": "86c349ca-0f66-45c1-bd9f-5349d00a4289",
   "metadata": {},
   "source": [
    "### Perform 5 fold CV for feature selection"
   ]
  },
  {
   "cell_type": "code",
   "execution_count": 12,
   "id": "53a11697-8b7e-4d1d-a508-018000c9a644",
   "metadata": {},
   "outputs": [
    {
     "name": "stderr",
     "output_type": "stream",
     "text": [
      "25it [00:40,  1.61s/it]\n"
     ]
    },
    {
     "name": "stdout",
     "output_type": "stream",
     "text": [
      "1 0.7095144678030896\n"
     ]
    },
    {
     "name": "stderr",
     "output_type": "stream",
     "text": [
      "25it [00:38,  1.53s/it]\n"
     ]
    },
    {
     "name": "stdout",
     "output_type": "stream",
     "text": [
      "2 0.7858426729967077\n"
     ]
    },
    {
     "name": "stderr",
     "output_type": "stream",
     "text": [
      "25it [00:41,  1.66s/it]\n"
     ]
    },
    {
     "name": "stdout",
     "output_type": "stream",
     "text": [
      "3 0.8029496191716085\n"
     ]
    },
    {
     "name": "stderr",
     "output_type": "stream",
     "text": [
      "25it [00:37,  1.51s/it]\n"
     ]
    },
    {
     "name": "stdout",
     "output_type": "stream",
     "text": [
      "4 0.8019334502179963\n"
     ]
    },
    {
     "name": "stderr",
     "output_type": "stream",
     "text": [
      "25it [00:40,  1.63s/it]\n"
     ]
    },
    {
     "name": "stdout",
     "output_type": "stream",
     "text": [
      "5 0.8149858530056723\n"
     ]
    },
    {
     "name": "stderr",
     "output_type": "stream",
     "text": [
      "25it [00:51,  2.06s/it]\n"
     ]
    },
    {
     "name": "stdout",
     "output_type": "stream",
     "text": [
      "6 0.8198501847770687\n"
     ]
    },
    {
     "name": "stderr",
     "output_type": "stream",
     "text": [
      "25it [01:07,  2.70s/it]\n"
     ]
    },
    {
     "name": "stdout",
     "output_type": "stream",
     "text": [
      "7 0.8219294534812209\n"
     ]
    },
    {
     "name": "stderr",
     "output_type": "stream",
     "text": [
      "25it [01:33,  3.75s/it]\n"
     ]
    },
    {
     "name": "stdout",
     "output_type": "stream",
     "text": [
      "8 0.8330020588543492\n"
     ]
    },
    {
     "name": "stderr",
     "output_type": "stream",
     "text": [
      "25it [05:01, 12.06s/it]\n"
     ]
    },
    {
     "name": "stdout",
     "output_type": "stream",
     "text": [
      "9 0.8677301326247286\n"
     ]
    },
    {
     "name": "stderr",
     "output_type": "stream",
     "text": [
      "25it [03:17,  7.91s/it]\n"
     ]
    },
    {
     "name": "stdout",
     "output_type": "stream",
     "text": [
      "10 0.8676986970692975\n"
     ]
    },
    {
     "name": "stderr",
     "output_type": "stream",
     "text": [
      "25it [01:29,  3.59s/it]\n"
     ]
    },
    {
     "name": "stdout",
     "output_type": "stream",
     "text": [
      "11 0.8686720992935351\n"
     ]
    },
    {
     "name": "stderr",
     "output_type": "stream",
     "text": [
      "25it [01:15,  3.01s/it]\n"
     ]
    },
    {
     "name": "stdout",
     "output_type": "stream",
     "text": [
      "12 0.8709028126383564\n"
     ]
    },
    {
     "name": "stderr",
     "output_type": "stream",
     "text": [
      "25it [03:41,  8.86s/it]\n"
     ]
    },
    {
     "name": "stdout",
     "output_type": "stream",
     "text": [
      "13 0.8699161885395424\n"
     ]
    },
    {
     "name": "stderr",
     "output_type": "stream",
     "text": [
      "25it [11:54, 28.57s/it]\n"
     ]
    },
    {
     "name": "stdout",
     "output_type": "stream",
     "text": [
      "14 0.8730082644945485\n"
     ]
    },
    {
     "name": "stderr",
     "output_type": "stream",
     "text": [
      "25it [11:51, 28.46s/it]"
     ]
    },
    {
     "name": "stdout",
     "output_type": "stream",
     "text": [
      "15 0.8674355351320568\n"
     ]
    },
    {
     "name": "stderr",
     "output_type": "stream",
     "text": [
      "\n"
     ]
    }
   ],
   "source": [
    "selected_features = []\n",
    "\n",
    "for i in (-feature_importances).argsort()[:15]:\n",
    "    selected_features.append(features[i])\n",
    "    rskf = RepeatedStratifiedKFold(n_splits=5,n_repeats=5,random_state=0)\n",
    "    gt = []\n",
    "    predicted = []\n",
    "    proba = []\n",
    "    trainindices = []\n",
    "    testindices = []\n",
    "    predictors = []\n",
    "    for train_index,test_index in tqdm(rskf.split(X_patients_train,Y_patients_train)):\n",
    "        trainPatients = get_positions(X_patients_train,train_index)\n",
    "        testPatients = get_positions(X_patients_train,test_index)\n",
    "\n",
    "        traindf = train[train[\"Patient ID\"].isin(trainPatients)]\n",
    "        testdf = train[train[\"Patient ID\"].isin(testPatients)]\n",
    "\n",
    "        X_train, Y_train = traindf[selected_features].values, traindf[task].values\n",
    "        X_test, Y_test = testdf[selected_features].values, testdf[task].values\n",
    "\n",
    "\n",
    "        scaler = MinMaxScaler(feature_range=(0,1))\n",
    "        X_train = scaler.fit_transform(X_train)\n",
    "        X_test = scaler.transform(X_test)\n",
    "\n",
    "        imputer = SimpleImputer(strategy=\"median\")\n",
    "        X_train = imputer.fit_transform(X_train)\n",
    "        X_test = imputer.transform(X_test)\n",
    "\n",
    "        X_train, Y_train = smote(X_train,Y_train,1)\n",
    "\n",
    "        clf = xgb.XGBClassifier()\n",
    "        clf.fit(X_train,Y_train)\n",
    "        \n",
    "        y_predicted = clf.predict(X_test)\n",
    "        y_proba = clf.predict_proba(X_test)\n",
    "        \n",
    "        gt.append(Y_test)\n",
    "        predicted.append(y_predicted)\n",
    "        proba.append(y_proba)\n",
    "        predictors.append([clf,scaler,imputer])\n",
    "\n",
    "        trainindices.append(np.where(df_dropped[\"Patient ID\"].isin(trainPatients)==True)[0])\n",
    "        testindices.append(np.where(df_dropped[\"Patient ID\"].isin(testPatients)==True)[0])\n",
    "\n",
    "    predicted = np.concatenate(predicted,axis=0)\n",
    "    gt = np.concatenate(gt,axis=0)\n",
    "    proba = np.concatenate(proba,axis=0)\n",
    "    # print (\"\")\n",
    "    # print (task)\n",
    "\n",
    "    del clf\n",
    "\n",
    "    print (len(selected_features),roc_auc_score(gt,proba[:,1]))   "
   ]
  },
  {
   "cell_type": "code",
   "execution_count": 13,
   "id": "712f8d09-c55e-40af-aa5b-ffe8add975cf",
   "metadata": {},
   "outputs": [],
   "source": [
    "def getMetrics(testX,testY,models,metric):\n",
    "    clf = models[0]\n",
    "    scaler = models[1]\n",
    "    imputer = models[2]\n",
    "    \n",
    "    \n",
    "    if metric != f1_score:\n",
    "        ypredicted = clf.predict_proba(imputer.transform(scaler.transform(testX)))\n",
    "        metric_value  = metric(testY,ypredicted[:,1])\n",
    "    else:\n",
    "        ypredicted = clf.predict(imputer.transform(scaler.transform(testX)))\n",
    "        metric_value  = metric(testY,ypredicted)\n",
    "    return metric_value"
   ]
  },
  {
   "cell_type": "markdown",
   "id": "09c2cde7-4b94-47cc-b9f2-4bb2e923ba39",
   "metadata": {},
   "source": [
    "### Select number of Features that acheive max AUC Score"
   ]
  },
  {
   "cell_type": "code",
   "execution_count": 14,
   "id": "bd7a71b1-e080-4ebc-b13c-ff42ac6227ec",
   "metadata": {},
   "outputs": [
    {
     "name": "stdout",
     "output_type": "stream",
     "text": [
      "['Absolute Neutrophil Count_CBC (Complete Blood Count) EDTA', 'LDH_LDH (Lactate Dehydrogenase) Total   Serum', 'Lymphocytes_CBC (Complete Blood Count) EDTA', 'Neutrophils_CBC (Complete Blood Count) EDTA', 'Diabetes', 'Ferritin_Ferritin Serum', 'INR_Prothrombin Time (with INR) Citrate Plasma', 'IL-6_Interleukin -6 (IL-6)', 'SPO2 Room Air', 'Absolute Eosinophil Count_CBC (Complete Blood Count) EDTA', 'Packed Cell  Volume_CBC (Complete Blood Count) EDTA']\n"
     ]
    }
   ],
   "source": [
    "selected_features =  [features[i] for i in (-feature_importances).argsort()[:11]]\n",
    "print(selected_features)"
   ]
  },
  {
   "cell_type": "markdown",
   "id": "1e4af711-81dd-4c94-a9f8-e42cb7cc4be5",
   "metadata": {},
   "source": [
    "## Get Metrics on Test Set"
   ]
  },
  {
   "cell_type": "code",
   "execution_count": 15,
   "id": "c318c663-4d46-4daa-b815-62637b33a621",
   "metadata": {},
   "outputs": [
    {
     "name": "stdout",
     "output_type": "stream",
     "text": [
      "              precision    recall  f1-score   support\n",
      "\n",
      "           0       0.76      0.50      0.61      1135\n",
      "           1       0.74      0.90      0.81      1776\n",
      "\n",
      "    accuracy                           0.74      2911\n",
      "   macro avg       0.75      0.70      0.71      2911\n",
      "weighted avg       0.75      0.74      0.73      2911\n",
      "\n",
      "0.8167254534269952\n",
      "0.8770632536623928\n"
     ]
    }
   ],
   "source": [
    "X_train, Y_train = train[selected_features].values, train[task].values\n",
    "X_test, Y_test = test[selected_features].values, test[task].values\n",
    "\n",
    "\n",
    "scaler = MinMaxScaler(feature_range=(0,1))\n",
    "X_train = scaler.fit_transform(X_train)\n",
    "X_test = scaler.transform(X_test)\n",
    "\n",
    "imputer = SimpleImputer(strategy=\"median\")\n",
    "X_train = imputer.fit_transform(X_train)\n",
    "X_test = imputer.transform(X_test)\n",
    "\n",
    "clf = xgb.XGBClassifier(colsample_bytree= 0.5586299571256016,\n",
    " learning_rate=0.015552512903662743,\n",
    " max_depth=5,\n",
    " min_child_weight= 1,\n",
    " n_estimators= 686,\n",
    " subsample= 0.8928391410802186)\n",
    "# clf = RandomForestClassifier(max_depth=9,n_estimators=914)\n",
    "# clf = xgb.XGBClassifier()\n",
    "# clf = linear_model.LogisticRegression()\n",
    "# clf = SVC(probability=True)\n",
    "clf.fit(X_train,Y_train)\n",
    "y_predicted = clf.predict(X_test)\n",
    "y_proba = clf.predict_proba(X_test)\n",
    "\n",
    "\n",
    "print (classification_report(Y_test,y_predicted))\n",
    "print (roc_auc_score(Y_test,y_proba[:,1])) \n",
    "print (average_precision_score(Y_test,y_proba[:,1])) \n",
    "confusion = confusion_matrix(Y_test,y_predicted)"
   ]
  },
  {
   "cell_type": "code",
   "execution_count": 16,
   "id": "f9127fcc-9d63-45c8-9cfe-c9eb4bef9647",
   "metadata": {},
   "outputs": [
    {
     "name": "stdout",
     "output_type": "stream",
     "text": [
      "              precision    recall  f1-score   support\n",
      "\n",
      "           0       0.76      0.50      0.61      1135\n",
      "           1       0.74      0.90      0.81      1776\n",
      "\n",
      "    accuracy                           0.74      2911\n",
      "   macro avg       0.75      0.70      0.71      2911\n",
      "weighted avg       0.75      0.74      0.73      2911\n",
      "\n"
     ]
    }
   ],
   "source": [
    "X_test, Y_test = test[selected_features].values, test[task].values\n",
    "\n",
    "print (classification_report(Y_test,clf.predict(imputer.transform(scaler.transform(X_test)))))"
   ]
  },
  {
   "cell_type": "markdown",
   "id": "1ba99447-2ba7-4c70-9ea4-c3819ff19c9e",
   "metadata": {},
   "source": [
    "## Get Metrics over 5 different CV runs"
   ]
  },
  {
   "cell_type": "code",
   "execution_count": 17,
   "id": "ecd39f76-d2c0-43a8-a2fc-96741d6b3e28",
   "metadata": {},
   "outputs": [
    {
     "name": "stderr",
     "output_type": "stream",
     "text": [
      "25it [16:46, 40.24s/it]\n"
     ]
    },
    {
     "name": "stdout",
     "output_type": "stream",
     "text": [
      " XGBClassifier(base_score=0.5, booster='gbtree', colsample_bylevel=1,\n",
      "              colsample_bynode=1, colsample_bytree=0.5586299571256016, gamma=0,\n",
      "              gpu_id=-1, importance_type='gain', interaction_constraints='',\n",
      "              learning_rate=0.015552512903662743, max_delta_step=0, max_depth=5,\n",
      "              min_child_weight=1, missing=nan, monotone_constraints='()',\n",
      "              n_estimators=686, n_jobs=0, num_parallel_tree=1, random_state=0,\n",
      "              reg_alpha=0, reg_lambda=1, scale_pos_weight=1,\n",
      "              subsample=0.8928391410802186, tree_method='exact',\n",
      "              validate_parameters=1, verbosity=None)\n",
      "Binary Severity Class\n",
      "              precision    recall  f1-score   support\n",
      "\n",
      "           0       0.61      0.75      0.67     14965\n",
      "           1       0.92      0.85      0.88     48720\n",
      "\n",
      "    accuracy                           0.83     63685\n",
      "   macro avg       0.76      0.80      0.78     63685\n",
      "weighted avg       0.84      0.83      0.83     63685\n",
      "\n"
     ]
    },
    {
     "name": "stderr",
     "output_type": "stream",
     "text": [
      "25it [04:20, 10.41s/it]\n"
     ]
    },
    {
     "name": "stdout",
     "output_type": "stream",
     "text": [
      " RandomForestClassifier(max_depth=9, n_estimators=914)\n",
      "Binary Severity Class\n",
      "              precision    recall  f1-score   support\n",
      "\n",
      "           0       0.60      0.76      0.67     14965\n",
      "           1       0.92      0.84      0.88     48720\n",
      "\n",
      "    accuracy                           0.82     63685\n",
      "   macro avg       0.76      0.80      0.77     63685\n",
      "weighted avg       0.84      0.82      0.83     63685\n",
      "\n"
     ]
    },
    {
     "name": "stderr",
     "output_type": "stream",
     "text": [
      "25it [22:29, 53.97s/it]\n"
     ]
    },
    {
     "name": "stdout",
     "output_type": "stream",
     "text": [
      " SVC(probability=True)\n",
      "Binary Severity Class\n",
      "              precision    recall  f1-score   support\n",
      "\n",
      "           0       0.52      0.83      0.64     14965\n",
      "           1       0.94      0.77      0.84     48720\n",
      "\n",
      "    accuracy                           0.78     63685\n",
      "   macro avg       0.73      0.80      0.74     63685\n",
      "weighted avg       0.84      0.78      0.80     63685\n",
      "\n"
     ]
    },
    {
     "name": "stderr",
     "output_type": "stream",
     "text": [
      "25it [00:01, 13.61it/s]\n"
     ]
    },
    {
     "name": "stdout",
     "output_type": "stream",
     "text": [
      " LogisticRegression()\n",
      "Binary Severity Class\n",
      "              precision    recall  f1-score   support\n",
      "\n",
      "           0       0.53      0.83      0.65     14965\n",
      "           1       0.94      0.78      0.85     48720\n",
      "\n",
      "    accuracy                           0.79     63685\n",
      "   macro avg       0.74      0.80      0.75     63685\n",
      "weighted avg       0.84      0.79      0.80     63685\n",
      "\n"
     ]
    }
   ],
   "source": [
    "import copy\n",
    "from sklearn.base import clone\n",
    "clfs = [xgb.XGBClassifier(colsample_bytree= 0.5586299571256016,\n",
    " learning_rate=0.015552512903662743,\n",
    " max_depth=5,\n",
    " min_child_weight= 1,\n",
    " n_estimators= 686,\n",
    " subsample= 0.8928391410802186),\n",
    "       RandomForestClassifier(max_depth=9,n_estimators=914),\n",
    "       SVC(probability=True),\n",
    "       linear_model.LogisticRegression()]\n",
    "all_predictors = []\n",
    "for i in clfs:\n",
    "    rskf = RepeatedStratifiedKFold(n_splits=5,n_repeats=5,random_state=0)\n",
    "    gt = []\n",
    "    predicted = []\n",
    "    proba = []\n",
    "    trainindices = []\n",
    "    testindices = []\n",
    "    predictors = []\n",
    "    for train_index,test_index in tqdm(rskf.split(X_patients_train,Y_patients_train)):\n",
    "        trainPatients = get_positions(X_patients_train,train_index)\n",
    "        testPatients = get_positions(X_patients_train,test_index)\n",
    "\n",
    "        traindf = train[train[\"Patient ID\"].isin(trainPatients)]\n",
    "        testdf = train[train[\"Patient ID\"].isin(testPatients)]\n",
    "\n",
    "        X_train, Y_train = traindf[selected_features].values, traindf[task].values\n",
    "        X_test, Y_test = testdf[selected_features].values, testdf[task].values\n",
    "\n",
    "        scaler = MinMaxScaler(feature_range=(0,1))\n",
    "        X_train = scaler.fit_transform(X_train)\n",
    "        X_test = scaler.transform(X_test)\n",
    "\n",
    "        imputer = SimpleImputer()\n",
    "        X_train = imputer.fit_transform(X_train)\n",
    "        X_test = imputer.transform(X_test)\n",
    "\n",
    "        X_train, Y_train = smote(X_train,Y_train,1)\n",
    "        clf = clone(i)\n",
    "\n",
    "        clf.fit(X_train,Y_train)\n",
    "        y_predicted = clf.predict(X_test)\n",
    "        gt.append(Y_test)\n",
    "        predicted.append(y_predicted)\n",
    "        predictors.append([clf,scaler,imputer])\n",
    "\n",
    "    all_predictors.append(predictors)\n",
    "\n",
    "    predicted = np.concatenate(predicted,axis=0)\n",
    "    gt = np.concatenate(gt,axis=0)\n",
    "    print (\"\",clf)\n",
    "    print (task)\n",
    "    print (classification_report(gt,predicted))"
   ]
  },
  {
   "cell_type": "markdown",
   "id": "b33bc145-398a-444f-9564-bbab201a0921",
   "metadata": {},
   "source": [
    "#### AUC_ROC Score "
   ]
  },
  {
   "cell_type": "code",
   "execution_count": 18,
   "id": "53b5cc04-ad35-418e-9bb6-f29fc6f3728a",
   "metadata": {},
   "outputs": [
    {
     "name": "stdout",
     "output_type": "stream",
     "text": [
      "[XGBClassifier(base_score=0.5, booster='gbtree', colsample_bylevel=1,\n",
      "              colsample_bynode=1, colsample_bytree=0.5586299571256016, gamma=0,\n",
      "              gpu_id=-1, importance_type='gain', interaction_constraints='',\n",
      "              learning_rate=0.015552512903662743, max_delta_step=0, max_depth=5,\n",
      "              min_child_weight=1, missing=nan, monotone_constraints='()',\n",
      "              n_estimators=686, n_jobs=0, num_parallel_tree=1, random_state=0,\n",
      "              reg_alpha=0, reg_lambda=1, scale_pos_weight=1,\n",
      "              subsample=0.8928391410802186, tree_method='exact',\n",
      "              validate_parameters=1, verbosity=None), MinMaxScaler(), SimpleImputer()] \n",
      " 0.8331815890780647 +- 0.007947393920180167\n",
      "[RandomForestClassifier(max_depth=9, n_estimators=914), MinMaxScaler(), SimpleImputer()] \n",
      " 0.8256464460054768 +- 0.00992799840321555\n",
      "[SVC(probability=True), MinMaxScaler(), SimpleImputer()] \n",
      " 0.8161854288208913 +- 0.008003380734376462\n",
      "[LogisticRegression(), MinMaxScaler(), SimpleImputer()] \n",
      " 0.8129549747985871 +- 0.005697429710212191\n"
     ]
    }
   ],
   "source": [
    "means = []\n",
    "stds = []\n",
    "X_test, Y_test = test[selected_features].values, test[task].values\n",
    "for predictors in all_predictors:\n",
    "    performance = []\n",
    "    for i in predictors:\n",
    "        performance.append(getMetrics(testX=X_test,testY=Y_test,metric=roc_auc_score,models = i))\n",
    "    print (i,\"\\n\",np.mean(performance),\"+-\",np.std(performance))\n",
    "    means.append(np.mean(performance))\n",
    "    stds.append(np.std(performance))"
   ]
  },
  {
   "cell_type": "markdown",
   "id": "dedf11ca-32fb-4d13-bbf7-09b0352bd001",
   "metadata": {},
   "source": [
    "#### Average Precision"
   ]
  },
  {
   "cell_type": "code",
   "execution_count": 19,
   "id": "4e63352c-31ae-4406-89ad-1ce71b4ee2ef",
   "metadata": {},
   "outputs": [
    {
     "name": "stdout",
     "output_type": "stream",
     "text": [
      "[XGBClassifier(base_score=0.5, booster='gbtree', colsample_bylevel=1,\n",
      "              colsample_bynode=1, colsample_bytree=0.5586299571256016, gamma=0,\n",
      "              gpu_id=-1, importance_type='gain', interaction_constraints='',\n",
      "              learning_rate=0.015552512903662743, max_delta_step=0, max_depth=5,\n",
      "              min_child_weight=1, missing=nan, monotone_constraints='()',\n",
      "              n_estimators=686, n_jobs=0, num_parallel_tree=1, random_state=0,\n",
      "              reg_alpha=0, reg_lambda=1, scale_pos_weight=1,\n",
      "              subsample=0.8928391410802186, tree_method='exact',\n",
      "              validate_parameters=1, verbosity=None), MinMaxScaler(), SimpleImputer()] \n",
      " 0.8913218302947306 +- 0.007424079832399521\n",
      "[RandomForestClassifier(max_depth=9, n_estimators=914), MinMaxScaler(), SimpleImputer()] \n",
      " 0.8773605912733331 +- 0.01366767607330317\n",
      "[SVC(probability=True), MinMaxScaler(), SimpleImputer()] \n",
      " 0.8835937793131567 +- 0.005774062564338676\n",
      "[LogisticRegression(), MinMaxScaler(), SimpleImputer()] \n",
      " 0.8846681222791163 +- 0.004090796899936577\n"
     ]
    }
   ],
   "source": [
    "means = []\n",
    "stds = []\n",
    "X_test, Y_test = test[selected_features].values, test[task].values\n",
    "for predictors in all_predictors:\n",
    "    performance = []\n",
    "    for i in predictors:\n",
    "        performance.append(getMetrics(testX=X_test,testY=Y_test,metric=average_precision_score,models = i))\n",
    "    print (i,\"\\n\",np.mean(performance),\"+-\",np.std(performance))\n",
    "    means.append(np.mean(performance))\n",
    "    stds.append(np.std(performance))\n",
    "\n"
   ]
  },
  {
   "cell_type": "markdown",
   "id": "855fd54b-d216-4bbf-8cc8-db304f771b0b",
   "metadata": {},
   "source": [
    "#### F1 Score"
   ]
  },
  {
   "cell_type": "code",
   "execution_count": 20,
   "id": "4b701268-c2cb-49cf-b713-224f7f773070",
   "metadata": {},
   "outputs": [
    {
     "name": "stdout",
     "output_type": "stream",
     "text": [
      "[XGBClassifier(base_score=0.5, booster='gbtree', colsample_bylevel=1,\n",
      "              colsample_bynode=1, colsample_bytree=0.5586299571256016, gamma=0,\n",
      "              gpu_id=-1, importance_type='gain', interaction_constraints='',\n",
      "              learning_rate=0.015552512903662743, max_delta_step=0, max_depth=5,\n",
      "              min_child_weight=1, missing=nan, monotone_constraints='()',\n",
      "              n_estimators=686, n_jobs=0, num_parallel_tree=1, random_state=0,\n",
      "              reg_alpha=0, reg_lambda=1, scale_pos_weight=1,\n",
      "              subsample=0.8928391410802186, tree_method='exact',\n",
      "              validate_parameters=1, verbosity=None), MinMaxScaler(), SimpleImputer()] \n",
      " 0.8106055860143405 +- 0.007708367022400825\n",
      "[RandomForestClassifier(max_depth=9, n_estimators=914), MinMaxScaler(), SimpleImputer()] \n",
      " 0.8034631128266441 +- 0.010430327228802267\n",
      "[SVC(probability=True), MinMaxScaler(), SimpleImputer()] \n",
      " 0.7521350205656351 +- 0.013861545717370187\n",
      "[LogisticRegression(), MinMaxScaler(), SimpleImputer()] \n",
      " 0.7593514581642427 +- 0.007060438630169836\n"
     ]
    }
   ],
   "source": [
    "means = []\n",
    "stds = []\n",
    "X_test, Y_test = test[selected_features].values, test[task].values\n",
    "for predictors in all_predictors:\n",
    "    performance = []\n",
    "    for i in predictors:\n",
    "        performance.append(getMetrics(testX=X_test,testY=Y_test,metric=f1_score,models = i))\n",
    "    print (i,\"\\n\",np.mean(performance),\"+-\",np.std(performance))\n",
    "    means.append(np.mean(performance))\n",
    "    stds.append(np.std(performance))\n",
    "\n"
   ]
  }
 ],
 "metadata": {
  "kernelspec": {
   "display_name": "covid-risk",
   "language": "python",
   "name": "covid-risk"
  },
  "language_info": {
   "codemirror_mode": {
    "name": "ipython",
    "version": 3
   },
   "file_extension": ".py",
   "mimetype": "text/x-python",
   "name": "python",
   "nbconvert_exporter": "python",
   "pygments_lexer": "ipython3",
   "version": "3.8.0"
  }
 },
 "nbformat": 4,
 "nbformat_minor": 5
}
