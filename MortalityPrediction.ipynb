{
 "cells": [
  {
   "cell_type": "code",
   "execution_count": 1,
   "metadata": {},
   "outputs": [
    {
     "name": "stderr",
     "output_type": "stream",
     "text": [
      "Intel(R) Extension for Scikit-learn* enabled (https://github.com/intel/scikit-learn-intelex)\n"
     ]
    }
   ],
   "source": [
    "import pandas as pd \n",
    "import numpy as np\n",
    "from tqdm import tqdm\n",
    "from sklearn.model_selection import *\n",
    "import seaborn as sns\n",
    "import matplotlib.pyplot as plt\n",
    "from sklearn.impute import KNNImputer,SimpleImputer\n",
    "from sklearn.preprocessing import MinMaxScaler\n",
    "from sklearn.ensemble import RandomForestClassifier\n",
    "from sklearn.metrics import *\n",
    "from sklearn.inspection import permutation_importance\n",
    "from sklearn import metrics\n",
    "from sklearn.preprocessing import PolynomialFeatures\n",
    "import xgboost as xgb\n",
    "from sklearn.svm import SVC\n",
    "from sklearn import linear_model\n",
    "from sklearnex import patch_sklearn\n",
    "from imblearn.over_sampling import SMOTE\n",
    "from imblearn.over_sampling import BorderlineSMOTE\n",
    "from imblearn.over_sampling import SVMSMOTE\n",
    "from imblearn.over_sampling import ADASYN\n",
    "\n",
    "patch_sklearn()\n",
    "%matplotlib inline"
   ]
  },
  {
   "cell_type": "code",
   "execution_count": 2,
   "metadata": {},
   "outputs": [],
   "source": [
    "def smote(x, y, c):\n",
    "    if c==1:\n",
    "        oversample = SMOTE()\n",
    "    elif c==2:\n",
    "        oversample = BorderlineSMOTE()\n",
    "    elif c==3:\n",
    "        oversample = SVMSMOTE()\n",
    "    elif c==0:\n",
    "        oversample = ADASYN()\n",
    "\n",
    "    return oversample.fit_resample(x, y)"
   ]
  },
  {
   "cell_type": "markdown",
   "metadata": {
    "tags": []
   },
   "source": [
    "# Read Data"
   ]
  },
  {
   "cell_type": "code",
   "execution_count": 3,
   "metadata": {},
   "outputs": [
    {
     "name": "stdout",
     "output_type": "stream",
     "text": [
      "544\n"
     ]
    }
   ],
   "source": [
    "# df = pd.read_excel(\"../data/newData/MergedImputed.xlsx\")\n",
    "df = pd.read_excel(\"./data/MergedImputed_TimeConstrained.xlsx\")\n",
    "\n",
    "print(len(df[\"Patient ID\"].unique()))"
   ]
  },
  {
   "cell_type": "markdown",
   "metadata": {},
   "source": [
    "## Drop features with more than 80% missing values"
   ]
  },
  {
   "cell_type": "code",
   "execution_count": 4,
   "metadata": {},
   "outputs": [
    {
     "name": "stdout",
     "output_type": "stream",
     "text": [
      "16179\n",
      "15648\n",
      "{'Atypical Large Cell_CBC (Complete Blood Count) EDTA', 'Comment :_CBC (Complete Blood Count) EDTA', 'Metamyelocyte Cell_CBC (Complete Blood Count) EDTA', 'S Gene', 'Corrected TLC_CBC (Complete Blood Count) EDTA', 'Nucleated RBCs_CBC (Complete Blood Count) EDTA', 'N', 'ORF Gene', 'Band Cell_CBC (Complete Blood Count) EDTA', 'Blasts_CBC (Complete Blood Count) EDTA', 'SPO2 Supplimental O2', 'Comment(HbA1C)_Glycosylated Haemoglobin (HbA1C) EDTA', 'Myelocyte Cell_CBC (Complete Blood Count) EDTA'}\n",
      "544\n"
     ]
    },
    {
     "data": {
      "text/plain": [
       "['Patient ID',\n",
       " 'Sample Date Time',\n",
       " 'Days to Outcome',\n",
       " 'Date of Discharge',\n",
       " 'Glycosylated Haemoglobin(Hb A1c)_Glycosylated Haemoglobin (HbA1C) EDTA',\n",
       " 'Average Glucose Value For the Last 3 Months_Glycosylated Haemoglobin (HbA1C) EDTA',\n",
       " 'Average Glucose Value For the Last 3 Months IFCC_Glycosylated Haemoglobin (HbA1C) EDTA',\n",
       " 'Glycosylated Haemoglobin(Hb A1c) IFCC_Glycosylated Haemoglobin (HbA1C) EDTA',\n",
       " 'Duration of Stay',\n",
       " 'Gender',\n",
       " 'Age',\n",
       " 'Height',\n",
       " 'Weight',\n",
       " 'BMI',\n",
       " 'Temperature',\n",
       " 'BP Systolic',\n",
       " 'BP Diastolic',\n",
       " 'Pulse Rate',\n",
       " 'SPO2 Room Air',\n",
       " 'Respiration Rate',\n",
       " 'Pregnancy',\n",
       " 'Severity Class',\n",
       " 'Mortality',\n",
       " 'Binary Severity Class',\n",
       " 'Hypertension',\n",
       " 'Diabetes',\n",
       " 'Cancer',\n",
       " 'Hyperlipidemia/dislipidemia',\n",
       " 'Thyroid',\n",
       " 'Heart/Circulatory System',\n",
       " 'Respiratory',\n",
       " 'Brain/Nervous System',\n",
       " 'Renal',\n",
       " 'Liver',\n",
       " 'Other',\n",
       " 'E',\n",
       " 'RdRp',\n",
       " 'Steroids',\n",
       " 'AntiVirals',\n",
       " '25 Hydroxy- Vitamin D  Serum_25 Hydroxy Vitamin D Level Serum',\n",
       " 'Basophils_CBC (Complete Blood Count) EDTA',\n",
       " 'Diff % calc_CBC (Complete Blood Count) EDTA',\n",
       " 'Eosinophils_CBC (Complete Blood Count) EDTA',\n",
       " 'Haemoglobin_CBC (Complete Blood Count) EDTA',\n",
       " 'Lymphocytes_CBC (Complete Blood Count) EDTA',\n",
       " 'MCH_CBC (Complete Blood Count) EDTA',\n",
       " 'MCHC_CBC (Complete Blood Count) EDTA',\n",
       " 'MCV_CBC (Complete Blood Count) EDTA',\n",
       " 'Monocytes_CBC (Complete Blood Count) EDTA',\n",
       " 'Neutrophils_CBC (Complete Blood Count) EDTA',\n",
       " 'Packed Cell  Volume_CBC (Complete Blood Count) EDTA',\n",
       " 'Platelet Count_CBC (Complete Blood Count) EDTA',\n",
       " 'RDW_CBC (Complete Blood Count) EDTA',\n",
       " 'Total Leucocyte Count (TLC)_CBC (Complete Blood Count) EDTA',\n",
       " 'Absolute Lymphocyte Count_CBC (Complete Blood Count) EDTA',\n",
       " 'Absolute Neutrophil Count_CBC (Complete Blood Count) EDTA',\n",
       " 'Absolute Monocyte Count_CBC (Complete Blood Count) EDTA',\n",
       " 'RBC Count_CBC (Complete Blood Count) EDTA',\n",
       " 'MPV_CBC (Complete Blood Count) EDTA',\n",
       " 'WBC',\n",
       " 'NLR',\n",
       " 'LMR',\n",
       " 'NMR',\n",
       " 'PLR',\n",
       " 'CRP_CRP- C-Reactive Protein',\n",
       " 'Absolute Basophil Count_CBC (Complete Blood Count) EDTA',\n",
       " 'Absolute Eosinophil Count_CBC (Complete Blood Count) EDTA',\n",
       " 'Ferritin_Ferritin Serum',\n",
       " 'Trop I_Trop I Serum (High Sensitive)',\n",
       " 'Procalcitonin Level_Procalcitonin*  Serum',\n",
       " 'CK-MB (Mass)_CK- MB (Mass) Serum',\n",
       " 'IL-6_Interleukin -6 (IL-6)',\n",
       " 'INR_Prothrombin Time (with INR) Citrate Plasma',\n",
       " 'Prothrombin Time (PT)_Prothrombin Time (with INR) Citrate Plasma',\n",
       " 'MNPT Value_Prothrombin Time (with INR) Citrate Plasma',\n",
       " 'D-Dimer  (Quantitative)_D-Dimer  (Quantitative) Citrate Plasma',\n",
       " 'Magnesium_Magnesium Serum',\n",
       " 'LDH_LDH (Lactate Dehydrogenase) Total   Serum',\n",
       " 'Creatine Kinase (CPK)_Creatine Kinase (CPK) Serum']"
      ]
     },
     "execution_count": 4,
     "metadata": {},
     "output_type": "execute_result"
    }
   ],
   "source": [
    "ignore = ['Patient ID', 'Sample Date Time','Date of Discharge']\n",
    "\n",
    "df_dropped = df.dropna(thresh=int(len(df)*0.2),axis=1)\n",
    "\n",
    "columns_for_dups = []\n",
    "for i in list(df_dropped):\n",
    "    if i in ignore:\n",
    "        continue\n",
    "    else:\n",
    "        columns_for_dups.append(i)\n",
    "\n",
    "print (len(df_dropped))\n",
    "df_dropped = df_dropped.drop_duplicates(subset = columns_for_dups)\n",
    "\n",
    "print (len(df_dropped))\n",
    "print (set(list(df))-set(list(df_dropped)))\n",
    "df_dropped\n",
    "print(len(df_dropped[\"Patient ID\"].unique()))\n",
    "\n",
    "list(df_dropped)"
   ]
  },
  {
   "cell_type": "markdown",
   "metadata": {},
   "source": [
    "### Features to be considered"
   ]
  },
  {
   "cell_type": "code",
   "execution_count": 5,
   "metadata": {},
   "outputs": [
    {
     "name": "stdout",
     "output_type": "stream",
     "text": [
      "70\n"
     ]
    }
   ],
   "source": [
    "features = [\n",
    " 'Basophils_CBC (Complete Blood Count) EDTA',\n",
    " 'Eosinophils_CBC (Complete Blood Count) EDTA',\n",
    " 'Haemoglobin_CBC (Complete Blood Count) EDTA',\n",
    " 'Lymphocytes_CBC (Complete Blood Count) EDTA',\n",
    " 'MCH_CBC (Complete Blood Count) EDTA',\n",
    " 'MCHC_CBC (Complete Blood Count) EDTA',\n",
    " 'MCV_CBC (Complete Blood Count) EDTA',\n",
    " 'Monocytes_CBC (Complete Blood Count) EDTA',\n",
    " 'Neutrophils_CBC (Complete Blood Count) EDTA',\n",
    " 'Packed Cell  Volume_CBC (Complete Blood Count) EDTA',\n",
    " 'Platelet Count_CBC (Complete Blood Count) EDTA',\n",
    " 'RDW_CBC (Complete Blood Count) EDTA',\n",
    " 'Total Leucocyte Count (TLC)_CBC (Complete Blood Count) EDTA',\n",
    " 'Absolute Lymphocyte Count_CBC (Complete Blood Count) EDTA',\n",
    " 'Absolute Neutrophil Count_CBC (Complete Blood Count) EDTA',\n",
    " 'Absolute Monocyte Count_CBC (Complete Blood Count) EDTA',\n",
    " 'RBC Count_CBC (Complete Blood Count) EDTA',\n",
    " 'MPV_CBC (Complete Blood Count) EDTA',\n",
    " 'Gender',\n",
    " 'Age',\n",
    " 'Height',\n",
    " 'Weight',\n",
    " 'BMI',\n",
    " 'Temperature',\n",
    " 'BP Systolic',\n",
    " 'BP Diastolic',\n",
    " 'Pulse Rate',\n",
    " 'SPO2 Room Air',\n",
    " 'Respiration Rate',\n",
    " 'Pregnancy',\n",
    " 'Hypertension',\n",
    " 'Diabetes',\n",
    " 'Cancer',\n",
    " 'Hyperlipidemia/dislipidemia',\n",
    " 'Thyroid',\n",
    " 'Heart/Circulatory System',\n",
    " 'Respiratory',\n",
    " 'Brain/Nervous System',\n",
    " 'Renal',\n",
    " 'Liver',\n",
    " 'Other',\n",
    " 'E',\n",
    " 'RdRp',\n",
    " 'Absolute Eosinophil Count_CBC (Complete Blood Count) EDTA',\n",
    " 'Procalcitonin Level_Procalcitonin*  Serum',\n",
    " 'Absolute Basophil Count_CBC (Complete Blood Count) EDTA',\n",
    " 'INR_Prothrombin Time (with INR) Citrate Plasma',\n",
    " 'Prothrombin Time (PT)_Prothrombin Time (with INR) Citrate Plasma',\n",
    " 'MNPT Value_Prothrombin Time (with INR) Citrate Plasma',\n",
    " 'Glycosylated Haemoglobin(Hb A1c)_Glycosylated Haemoglobin (HbA1C) EDTA',\n",
    " 'Average Glucose Value For the Last 3 Months_Glycosylated Haemoglobin (HbA1C) EDTA',\n",
    " 'Average Glucose Value For the Last 3 Months IFCC_Glycosylated Haemoglobin (HbA1C) EDTA',\n",
    " 'Glycosylated Haemoglobin(Hb A1c) IFCC_Glycosylated Haemoglobin (HbA1C) EDTA',\n",
    " 'Trop I_Trop I Serum (High Sensitive)',\n",
    " 'CK-MB (Mass)_CK- MB (Mass) Serum',\n",
    " '25 Hydroxy- Vitamin D  Serum_25 Hydroxy Vitamin D Level Serum',\n",
    " 'CRP_CRP- C-Reactive Protein',\n",
    " 'Ferritin_Ferritin Serum',\n",
    " 'IL-6_Interleukin -6 (IL-6)',\n",
    " 'D-Dimer  (Quantitative)_D-Dimer  (Quantitative) Citrate Plasma',\n",
    " 'Magnesium_Magnesium Serum',\n",
    " 'LDH_LDH (Lactate Dehydrogenase) Total   Serum',\n",
    " 'Creatine Kinase (CPK)_Creatine Kinase (CPK) Serum',\n",
    " 'NLR',\n",
    " 'LMR',\n",
    " 'NMR',\n",
    " 'PLR',\n",
    " 'Steroids',\n",
    " 'AntiVirals',\n",
    " 'WBC',\n",
    "\n",
    "]\n",
    "\n",
    "print (len(features))"
   ]
  },
  {
   "cell_type": "markdown",
   "metadata": {},
   "source": [
    "### Define Task"
   ]
  },
  {
   "cell_type": "code",
   "execution_count": 6,
   "metadata": {},
   "outputs": [],
   "source": [
    "# task = 'Severity Class'\n",
    "task = 'Mortality'\n",
    "# task = 'Binary Severity Class'"
   ]
  },
  {
   "cell_type": "markdown",
   "metadata": {},
   "source": [
    "### Get Patient IDs"
   ]
  },
  {
   "cell_type": "code",
   "execution_count": 7,
   "metadata": {},
   "outputs": [],
   "source": [
    "X_patients = []\n",
    "Y_patients = []\n",
    "for patient in df_dropped[\"Patient ID\"].unique():\n",
    "    X_patients.append(patient)\n",
    "    Y_patients.append(df_dropped[df_dropped[\"Patient ID\"]==patient].iloc[0][task])\n",
    "def get_positions(array,indices):\n",
    "    output = []\n",
    "    for i in indices:\n",
    "        output.append(array[i])\n",
    "    return output"
   ]
  },
  {
   "cell_type": "markdown",
   "metadata": {},
   "source": [
    "### Split patient IDs into train test based on date cutoff"
   ]
  },
  {
   "cell_type": "code",
   "execution_count": 8,
   "metadata": {},
   "outputs": [],
   "source": [
    "trainp = df_dropped[df_dropped[\"Date of Discharge\"]<np.datetime64(\"2020-09-11\")][\"Patient ID\"].unique()\n",
    "testp = df_dropped[df_dropped[\"Date of Discharge\"]>np.datetime64(\"2020-09-11\")][\"Patient ID\"].unique()\n",
    "\n",
    "train = df_dropped[df_dropped[\"Patient ID\"].isin(trainp)]\n",
    "test = df_dropped[df_dropped[\"Patient ID\"].isin(testp)]"
   ]
  },
  {
   "cell_type": "markdown",
   "metadata": {},
   "source": [
    "## Get Feature Importances"
   ]
  },
  {
   "cell_type": "code",
   "execution_count": 9,
   "metadata": {},
   "outputs": [],
   "source": [
    "xg_class = xgb.XGBClassifier(objective ='binary:logistic', gamma = 0, learning_rate=0.2, max_delta_step=0, max_depth=4, min_child_weight=0, reg_lambda=7, subsample=1.0)\n",
    "xg_class.fit(train[features].values, train[task].values)\n",
    "feature_importances = xg_class.feature_importances_"
   ]
  },
  {
   "cell_type": "markdown",
   "metadata": {},
   "source": [
    "### Sort Features based on importance"
   ]
  },
  {
   "cell_type": "code",
   "execution_count": 10,
   "metadata": {},
   "outputs": [
    {
     "name": "stdout",
     "output_type": "stream",
     "text": [
      "BP Systolic 0.014346422\n",
      "Hypertension 0.014606627\n",
      "Procalcitonin Level_Procalcitonin*  Serum 0.014896245\n",
      "Thyroid 0.015022698\n",
      "Cancer 0.015387794\n",
      "CK-MB (Mass)_CK- MB (Mass) Serum 0.015620787\n",
      "RBC Count_CBC (Complete Blood Count) EDTA 0.016131978\n",
      "MPV_CBC (Complete Blood Count) EDTA 0.016990473\n",
      "Respiration Rate 0.01702401\n",
      "Creatine Kinase (CPK)_Creatine Kinase (CPK) Serum 0.017272841\n",
      "Platelet Count_CBC (Complete Blood Count) EDTA 0.018043594\n",
      "LMR 0.018476188\n",
      "25 Hydroxy- Vitamin D  Serum_25 Hydroxy Vitamin D Level Serum 0.019669147\n",
      "CRP_CRP- C-Reactive Protein 0.01977057\n",
      "Steroids 0.021152254\n",
      "Magnesium_Magnesium Serum 0.023990797\n",
      "LDH_LDH (Lactate Dehydrogenase) Total   Serum 0.026067412\n",
      "IL-6_Interleukin -6 (IL-6) 0.029732358\n",
      "INR_Prothrombin Time (with INR) Citrate Plasma 0.03297031\n",
      "Trop I_Trop I Serum (High Sensitive) 0.03351527\n",
      "WBC 0.03888502\n",
      "NLR 0.07507066\n",
      "Lymphocytes_CBC (Complete Blood Count) EDTA 0.08351547\n",
      "Ferritin_Ferritin Serum 0.08819551\n",
      "D-Dimer  (Quantitative)_D-Dimer  (Quantitative) Citrate Plasma 0.100369096\n"
     ]
    },
    {
     "data": {
      "image/png": "[encoded data removed]",
      "text/plain": [
       "<Figure size 720x1080 with 1 Axes>"
      ]
     },
     "metadata": {
      "needs_background": "light"
     },
     "output_type": "display_data"
    }
   ],
   "source": [
    "feature_names = []\n",
    "importances = []\n",
    "\n",
    "for i in (feature_importances).argsort()[-25:]:\n",
    "    print (features[i],feature_importances[i])\n",
    "    feature_names.append(features[i].split(\"_\")[0])\n",
    "    importances.append(feature_importances[i])\n",
    "\n",
    "plt.rcParams['figure.figsize'] = [10, 15]\n",
    "plt.barh(feature_names,importances)\n",
    "plt.ylabel(\"Parameters\")\n",
    "plt.xlabel(\"Importance\")\n",
    "plt.title(\"Top 25 Parameters for Mortality Prediction\")\n",
    "plt.show()\n",
    "# plt.savefig(task+\"Top25Features.jpg\",bbox_inches=\"tight\")"
   ]
  },
  {
   "cell_type": "code",
   "execution_count": 11,
   "metadata": {},
   "outputs": [],
   "source": [
    "X_patients_train = []\n",
    "Y_patients_train = []\n",
    "for patient in train[\"Patient ID\"].unique():\n",
    "    X_patients_train.append(patient)\n",
    "    Y_patients_train.append(df_dropped[df_dropped[\"Patient ID\"]==patient].iloc[0][task])"
   ]
  },
  {
   "cell_type": "markdown",
   "metadata": {},
   "source": [
    "### Perform 5 fold CV for feature selection"
   ]
  },
  {
   "cell_type": "code",
   "execution_count": 12,
   "metadata": {},
   "outputs": [
    {
     "name": "stderr",
     "output_type": "stream",
     "text": [
      "25it [00:43,  1.75s/it]\n"
     ]
    },
    {
     "name": "stdout",
     "output_type": "stream",
     "text": [
      "Mortality\n",
      "1 0.4745438364950675\n"
     ]
    },
    {
     "name": "stderr",
     "output_type": "stream",
     "text": [
      "25it [00:30,  1.22s/it]\n"
     ]
    },
    {
     "name": "stdout",
     "output_type": "stream",
     "text": [
      "Mortality\n",
      "2 0.4767033292408809\n"
     ]
    },
    {
     "name": "stderr",
     "output_type": "stream",
     "text": [
      "25it [00:30,  1.23s/it]\n"
     ]
    },
    {
     "name": "stdout",
     "output_type": "stream",
     "text": [
      "Mortality\n",
      "3 0.5356367455763341\n"
     ]
    },
    {
     "name": "stderr",
     "output_type": "stream",
     "text": [
      "25it [00:34,  1.40s/it]\n"
     ]
    },
    {
     "name": "stdout",
     "output_type": "stream",
     "text": [
      "Mortality\n",
      "4 0.5394859932571718\n"
     ]
    },
    {
     "name": "stderr",
     "output_type": "stream",
     "text": [
      "25it [00:33,  1.34s/it]\n"
     ]
    },
    {
     "name": "stdout",
     "output_type": "stream",
     "text": [
      "Mortality\n",
      "5 0.5654451651687011\n"
     ]
    },
    {
     "name": "stderr",
     "output_type": "stream",
     "text": [
      "25it [00:35,  1.41s/it]\n"
     ]
    },
    {
     "name": "stdout",
     "output_type": "stream",
     "text": [
      "Mortality\n",
      "6 0.5508001513714397\n"
     ]
    },
    {
     "name": "stderr",
     "output_type": "stream",
     "text": [
      "25it [00:38,  1.53s/it]\n"
     ]
    },
    {
     "name": "stdout",
     "output_type": "stream",
     "text": [
      "Mortality\n",
      "7 0.5755959341331428\n"
     ]
    },
    {
     "name": "stderr",
     "output_type": "stream",
     "text": [
      "25it [00:44,  1.80s/it]\n"
     ]
    },
    {
     "name": "stdout",
     "output_type": "stream",
     "text": [
      "Mortality\n",
      "8 0.5847602856571582\n"
     ]
    },
    {
     "name": "stderr",
     "output_type": "stream",
     "text": [
      "25it [01:04,  2.57s/it]\n"
     ]
    },
    {
     "name": "stdout",
     "output_type": "stream",
     "text": [
      "Mortality\n",
      "9 0.6034923845255296\n"
     ]
    },
    {
     "name": "stderr",
     "output_type": "stream",
     "text": [
      "25it [01:31,  3.65s/it]\n"
     ]
    },
    {
     "name": "stdout",
     "output_type": "stream",
     "text": [
      "Mortality\n",
      "10 0.5703581794751411\n"
     ]
    },
    {
     "name": "stderr",
     "output_type": "stream",
     "text": [
      "25it [03:54,  9.38s/it]\n"
     ]
    },
    {
     "name": "stdout",
     "output_type": "stream",
     "text": [
      "Mortality\n",
      "11 0.5854925718735807\n"
     ]
    },
    {
     "name": "stderr",
     "output_type": "stream",
     "text": [
      "25it [03:44,  8.96s/it]\n"
     ]
    },
    {
     "name": "stdout",
     "output_type": "stream",
     "text": [
      "Mortality\n",
      "12 0.5779486127361739\n"
     ]
    },
    {
     "name": "stderr",
     "output_type": "stream",
     "text": [
      "25it [01:23,  3.35s/it]\n"
     ]
    },
    {
     "name": "stdout",
     "output_type": "stream",
     "text": [
      "Mortality\n",
      "13 0.5475069754591068\n"
     ]
    },
    {
     "name": "stderr",
     "output_type": "stream",
     "text": [
      "25it [01:09,  2.79s/it]\n"
     ]
    },
    {
     "name": "stdout",
     "output_type": "stream",
     "text": [
      "Mortality\n",
      "14 0.5618221698187436\n"
     ]
    },
    {
     "name": "stderr",
     "output_type": "stream",
     "text": [
      "25it [01:00,  2.42s/it]"
     ]
    },
    {
     "name": "stdout",
     "output_type": "stream",
     "text": [
      "Mortality\n",
      "15 0.5799131021358599\n"
     ]
    },
    {
     "name": "stderr",
     "output_type": "stream",
     "text": [
      "\n"
     ]
    }
   ],
   "source": [
    "selected_features = []\n",
    "\n",
    "for i in (-feature_importances).argsort()[:15]:\n",
    "    selected_features.append(features[i])\n",
    "    rskf = RepeatedStratifiedKFold(n_splits=5,n_repeats=5,random_state=0)\n",
    "    gt = []\n",
    "    predicted = []\n",
    "    proba = []\n",
    "    trainindices = []\n",
    "    testindices = []\n",
    "    predictors = []\n",
    "    for train_index,test_index in tqdm(rskf.split(X_patients_train,Y_patients_train)):\n",
    "        trainPatients = get_positions(X_patients_train,train_index)\n",
    "        testPatients = get_positions(X_patients_train,test_index)\n",
    "\n",
    "        traindf = train[train[\"Patient ID\"].isin(trainPatients)].drop_duplicates()\n",
    "        testdf = train[train[\"Patient ID\"].isin(testPatients)].drop_duplicates()\n",
    "\n",
    "        X_train, Y_train = traindf[selected_features].values, traindf[task].values\n",
    "        X_test, Y_test = testdf[selected_features].values, testdf[task].values\n",
    "\n",
    "        scaler = MinMaxScaler(feature_range=(0,1))\n",
    "        X_train = scaler.fit_transform(X_train)\n",
    "        X_test = scaler.transform(X_test)\n",
    "\n",
    "        imputer = SimpleImputer(strategy=\"median\")\n",
    "        X_train = imputer.fit_transform(X_train)\n",
    "        X_test = imputer.transform(X_test)\n",
    "\n",
    "        X_train, Y_train = smote(X_train,Y_train,1)\n",
    "\n",
    "        clf = xgb.XGBClassifier(objective ='reg:logistic', gamma = 0, learning_rate=0.2, max_delta_step=0, max_depth=4, min_child_weight=0, reg_lambda=7, subsample=1.0)\n",
    "        clf.fit(X_train,Y_train)\n",
    "        y_predicted = clf.predict(X_test)\n",
    "        y_proba = clf.predict_proba(X_test)\n",
    "        gt.append(Y_test)\n",
    "        predicted.append(y_predicted)\n",
    "        proba.append(y_proba)\n",
    "        predictors.append([clf,scaler,imputer])\n",
    "\n",
    "        trainindices.append(np.where(df_dropped[\"Patient ID\"].isin(trainPatients)==True)[0])\n",
    "        testindices.append(np.where(df_dropped[\"Patient ID\"].isin(testPatients)==True)[0])\n",
    "\n",
    "    predicted = np.concatenate(predicted,axis=0)\n",
    "    gt = np.concatenate(gt,axis=0)\n",
    "    proba = np.concatenate(proba,axis=0)\n",
    "    print (task)\n",
    "\n",
    "    del clf\n",
    "\n",
    "    print (len(selected_features),average_precision_score(gt,proba[:,1]))    "
   ]
  },
  {
   "cell_type": "code",
   "execution_count": 13,
   "metadata": {},
   "outputs": [],
   "source": [
    "def getMetrics(testX,testY,models,metric):\n",
    "    clf = models[0]\n",
    "    scaler = models[1]\n",
    "    imputer = models[2]\n",
    "    \n",
    "    \n",
    "    if metric != f1_score:\n",
    "        ypredicted = clf.predict_proba(imputer.transform(scaler.transform(testX)))\n",
    "        metric_value  = metric(testY,ypredicted[:,1])\n",
    "    else:\n",
    "        ypredicted = clf.predict(imputer.transform(scaler.transform(testX)))\n",
    "        metric_value  = metric(testY,ypredicted)\n",
    "    return metric_value"
   ]
  },
  {
   "cell_type": "markdown",
   "metadata": {},
   "source": [
    "### Select Feature count that achieve max AP score"
   ]
  },
  {
   "cell_type": "code",
   "execution_count": 14,
   "metadata": {},
   "outputs": [
    {
     "data": {
      "text/plain": [
       "['D-Dimer  (Quantitative)_D-Dimer  (Quantitative) Citrate Plasma',\n",
       " 'Ferritin_Ferritin Serum',\n",
       " 'Lymphocytes_CBC (Complete Blood Count) EDTA',\n",
       " 'NLR',\n",
       " 'WBC',\n",
       " 'Trop I_Trop I Serum (High Sensitive)',\n",
       " 'INR_Prothrombin Time (with INR) Citrate Plasma',\n",
       " 'IL-6_Interleukin -6 (IL-6)',\n",
       " 'LDH_LDH (Lactate Dehydrogenase) Total   Serum']"
      ]
     },
     "execution_count": 14,
     "metadata": {},
     "output_type": "execute_result"
    }
   ],
   "source": [
    "selected_features = [features[i] for i in (-feature_importances).argsort()[:9]]\n",
    "selected_features\n",
    "# selected_features += ['Steroids',\"Age\"]"
   ]
  },
  {
   "cell_type": "markdown",
   "metadata": {},
   "source": [
    "### Metrics on the Test Set"
   ]
  },
  {
   "cell_type": "code",
   "execution_count": 15,
   "metadata": {},
   "outputs": [
    {
     "name": "stdout",
     "output_type": "stream",
     "text": [
      "              precision    recall  f1-score   support\n",
      "\n",
      "           0       0.93      0.93      0.93      2369\n",
      "           1       0.71      0.71      0.71       542\n",
      "\n",
      "    accuracy                           0.89      2911\n",
      "   macro avg       0.82      0.82      0.82      2911\n",
      "weighted avg       0.89      0.89      0.89      2911\n",
      "\n",
      "AUC_ROC 0.9290855593233012\n",
      "Average Precision 0.8071147371876223\n"
     ]
    }
   ],
   "source": [
    "X_train, Y_train = train[selected_features].values, train[task].values\n",
    "X_test, Y_test = test[selected_features].values, test[task].values\n",
    "\n",
    "scaler = MinMaxScaler(feature_range=(0,1))\n",
    "X_train = scaler.fit_transform(X_train)\n",
    "X_test = scaler.transform(X_test)\n",
    "\n",
    "imputer = SimpleImputer(strategy=\"median\")\n",
    "X_train = imputer.fit_transform(X_train)\n",
    "X_test = imputer.transform(X_test)\n",
    "\n",
    "X_train, Y_train = smote(X_train,Y_train,1)\n",
    "\n",
    "# clf = xgb.XGBClassifier(colsample_bytree= 0.9027676504163796,\n",
    "#  learning_rate=0.1299881198995753,\n",
    "#  max_depth=2,\n",
    "#  min_child_weight= 4,\n",
    "#  n_estimators= 55,\n",
    "#  subsample= 0.7783799971730078)\n",
    "clf = linear_model.LogisticRegression()\n",
    "\n",
    "clf.fit(X_train,Y_train)\n",
    "y_predicted = clf.predict(X_test)\n",
    "y_proba = clf.predict_proba(X_test)\n",
    "\n",
    "\n",
    "print (classification_report(Y_test,y_predicted))\n",
    "print (\"AUC_ROC\",roc_auc_score(Y_test,y_proba[:,1])) \n",
    "print (\"Average Precision\",average_precision_score(Y_test,y_proba[:,1])) \n",
    "confusion = confusion_matrix(Y_test,y_predicted)"
   ]
  },
  {
   "cell_type": "code",
   "execution_count": 16,
   "metadata": {},
   "outputs": [
    {
     "name": "stdout",
     "output_type": "stream",
     "text": [
      "              precision    recall  f1-score   support\n",
      "\n",
      "           0       0.93      0.93      0.93      2369\n",
      "           1       0.71      0.71      0.71       542\n",
      "\n",
      "    accuracy                           0.89      2911\n",
      "   macro avg       0.82      0.82      0.82      2911\n",
      "weighted avg       0.89      0.89      0.89      2911\n",
      "\n"
     ]
    }
   ],
   "source": [
    "X_test, Y_test = test[selected_features].values, test[task].values\n",
    "\n",
    "print (classification_report(Y_test,clf.predict(imputer.transform(scaler.transform(X_test)))))"
   ]
  },
  {
   "cell_type": "markdown",
   "metadata": {},
   "source": [
    "## Get Metrics over 5 different CV runs"
   ]
  },
  {
   "cell_type": "code",
   "execution_count": 17,
   "metadata": {},
   "outputs": [
    {
     "name": "stderr",
     "output_type": "stream",
     "text": [
      "25it [00:15,  1.59it/s]\n"
     ]
    },
    {
     "name": "stdout",
     "output_type": "stream",
     "text": [
      " XGBClassifier(base_score=0.5, booster='gbtree', colsample_bylevel=1,\n",
      "              colsample_bynode=1, colsample_bytree=0.9027676504163796, gamma=0,\n",
      "              gpu_id=-1, importance_type='gain', interaction_constraints='',\n",
      "              learning_rate=0.1299881198995753, max_delta_step=0, max_depth=2,\n",
      "              min_child_weight=4, missing=nan, monotone_constraints='()',\n",
      "              n_estimators=55, n_jobs=0, num_parallel_tree=1, random_state=0,\n",
      "              reg_alpha=0, reg_lambda=1, scale_pos_weight=1,\n",
      "              subsample=0.7783799971730078, tree_method='exact',\n",
      "              validate_parameters=1, verbosity=None)\n",
      "Mortality\n",
      "              precision    recall  f1-score   support\n",
      "\n",
      "           0       0.91      0.83      0.87     50345\n",
      "           1       0.52      0.69      0.59     13340\n",
      "\n",
      "    accuracy                           0.80     63685\n",
      "   macro avg       0.71      0.76      0.73     63685\n",
      "weighted avg       0.83      0.80      0.81     63685\n",
      "\n",
      "\n"
     ]
    },
    {
     "name": "stderr",
     "output_type": "stream",
     "text": [
      "25it [01:10,  2.84s/it]\n"
     ]
    },
    {
     "name": "stdout",
     "output_type": "stream",
     "text": [
      " RandomForestClassifier()\n",
      "Mortality\n",
      "              precision    recall  f1-score   support\n",
      "\n",
      "           0       0.88      0.89      0.88     50345\n",
      "           1       0.56      0.53      0.54     13340\n",
      "\n",
      "    accuracy                           0.82     63685\n",
      "   macro avg       0.72      0.71      0.71     63685\n",
      "weighted avg       0.81      0.82      0.81     63685\n",
      "\n",
      "\n"
     ]
    },
    {
     "name": "stderr",
     "output_type": "stream",
     "text": [
      "25it [39:57, 95.89s/it] \n"
     ]
    },
    {
     "name": "stdout",
     "output_type": "stream",
     "text": [
      " SVC(probability=True)\n",
      "Mortality\n",
      "              precision    recall  f1-score   support\n",
      "\n",
      "           0       0.90      0.86      0.88     50345\n",
      "           1       0.56      0.65      0.60     13340\n",
      "\n",
      "    accuracy                           0.82     63685\n",
      "   macro avg       0.73      0.76      0.74     63685\n",
      "weighted avg       0.83      0.82      0.82     63685\n",
      "\n",
      "\n"
     ]
    },
    {
     "name": "stderr",
     "output_type": "stream",
     "text": [
      "25it [00:03,  7.40it/s]\n"
     ]
    },
    {
     "name": "stdout",
     "output_type": "stream",
     "text": [
      " LogisticRegression()\n",
      "Mortality\n",
      "              precision    recall  f1-score   support\n",
      "\n",
      "           0       0.92      0.84      0.88     50345\n",
      "           1       0.54      0.72      0.62     13340\n",
      "\n",
      "    accuracy                           0.81     63685\n",
      "   macro avg       0.73      0.78      0.75     63685\n",
      "weighted avg       0.84      0.81      0.82     63685\n",
      "\n",
      "\n"
     ]
    }
   ],
   "source": [
    "import copy\n",
    "from sklearn.base import clone\n",
    "clfs = [xgb.XGBClassifier(colsample_bytree= 0.9027676504163796,\n",
    " learning_rate=0.1299881198995753,\n",
    " max_depth=2,\n",
    " min_child_weight= 4,\n",
    " n_estimators= 55,\n",
    " subsample= 0.7783799971730078),\n",
    "       RandomForestClassifier(),\n",
    "       SVC(probability=True),\n",
    "       linear_model.LogisticRegression()]\n",
    "\n",
    "all_predictors = []\n",
    "for i in clfs:\n",
    "    rskf = RepeatedStratifiedKFold(n_splits=5,n_repeats=5,random_state=0)\n",
    "    gt = []\n",
    "    predicted = []\n",
    "    proba = []\n",
    "    trainindices = []\n",
    "    testindices = []\n",
    "    predictors = []\n",
    "    for train_index,test_index in tqdm(rskf.split(X_patients_train,Y_patients_train)):\n",
    "        trainPatients = get_positions(X_patients_train,train_index)\n",
    "        testPatients = get_positions(X_patients_train,test_index)\n",
    "\n",
    "        traindf = train[train[\"Patient ID\"].isin(trainPatients)]\n",
    "        testdf = train[train[\"Patient ID\"].isin(testPatients)]\n",
    "\n",
    "        X_train, Y_train = traindf[selected_features].values, traindf[task].values\n",
    "        X_test, Y_test = testdf[selected_features].values, testdf[task].values\n",
    "\n",
    "        scaler = MinMaxScaler(feature_range=(0,1))\n",
    "        X_train = scaler.fit_transform(X_train)\n",
    "        X_test = scaler.transform(X_test)\n",
    "\n",
    "        imputer = SimpleImputer(strategy=\"median\")\n",
    "        X_train = imputer.fit_transform(X_train)\n",
    "        X_test = imputer.transform(X_test)\n",
    "\n",
    "        X_train, Y_train = smote(X_train,Y_train,1)\n",
    "        clf = clone(i)\n",
    "\n",
    "        clf.fit(X_train,Y_train)\n",
    "        y_predicted = clf.predict(X_test)\n",
    "        gt.append(Y_test)\n",
    "        predicted.append(y_predicted)\n",
    "        predictors.append([clf,scaler,imputer])\n",
    "\n",
    "    all_predictors.append(predictors)\n",
    "\n",
    "    predicted = np.concatenate(predicted,axis=0)\n",
    "    gt = np.concatenate(gt,axis=0)\n",
    "\n",
    "    print (\"\",clf)\n",
    "    print (task)\n",
    "    print (classification_report(gt,predicted))\n",
    "    print ('')"
   ]
  },
  {
   "cell_type": "markdown",
   "metadata": {},
   "source": [
    "#### AUC_ROC Score "
   ]
  },
  {
   "cell_type": "code",
   "execution_count": 18,
   "metadata": {},
   "outputs": [
    {
     "name": "stdout",
     "output_type": "stream",
     "text": [
      "[XGBClassifier(base_score=0.5, booster='gbtree', colsample_bylevel=1,\n",
      "              colsample_bynode=1, colsample_bytree=0.9027676504163796, gamma=0,\n",
      "              gpu_id=-1, importance_type='gain', interaction_constraints='',\n",
      "              learning_rate=0.1299881198995753, max_delta_step=0, max_depth=2,\n",
      "              min_child_weight=4, missing=nan, monotone_constraints='()',\n",
      "              n_estimators=55, n_jobs=0, num_parallel_tree=1, random_state=0,\n",
      "              reg_alpha=0, reg_lambda=1, scale_pos_weight=1,\n",
      "              subsample=0.7783799971730078, tree_method='exact',\n",
      "              validate_parameters=1, verbosity=None), MinMaxScaler(), SimpleImputer(strategy='median')] \n",
      " 0.8931507369949174 +- 0.01337319925596464\n",
      "[RandomForestClassifier(), MinMaxScaler(), SimpleImputer(strategy='median')] \n",
      " 0.8583718043174521 +- 0.013749074383864055\n",
      "[SVC(probability=True), MinMaxScaler(), SimpleImputer(strategy='median')] \n",
      " 0.896647035275756 +- 0.01056024623473357\n",
      "[LogisticRegression(), MinMaxScaler(), SimpleImputer(strategy='median')] \n",
      " 0.9280065389509953 +- 0.004588882463242022\n"
     ]
    }
   ],
   "source": [
    "means = []\n",
    "stds = []\n",
    "X_test, Y_test = test[selected_features].values, test[task].values\n",
    "for predictors in all_predictors:\n",
    "    performance = []\n",
    "    for i in predictors:\n",
    "        performance.append(getMetrics(testX=X_test,testY=Y_test,metric=roc_auc_score,models = i))\n",
    "    print (i,\"\\n\",np.mean(performance),\"+-\",np.std(performance))\n",
    "    means.append(np.mean(performance))\n",
    "    stds.append(np.std(performance))"
   ]
  },
  {
   "cell_type": "markdown",
   "metadata": {},
   "source": [
    "#### Average Precision"
   ]
  },
  {
   "cell_type": "code",
   "execution_count": 19,
   "metadata": {},
   "outputs": [
    {
     "name": "stdout",
     "output_type": "stream",
     "text": [
      "[XGBClassifier(base_score=0.5, booster='gbtree', colsample_bylevel=1,\n",
      "              colsample_bynode=1, colsample_bytree=0.9027676504163796, gamma=0,\n",
      "              gpu_id=-1, importance_type='gain', interaction_constraints='',\n",
      "              learning_rate=0.1299881198995753, max_delta_step=0, max_depth=2,\n",
      "              min_child_weight=4, missing=nan, monotone_constraints='()',\n",
      "              n_estimators=55, n_jobs=0, num_parallel_tree=1, random_state=0,\n",
      "              reg_alpha=0, reg_lambda=1, scale_pos_weight=1,\n",
      "              subsample=0.7783799971730078, tree_method='exact',\n",
      "              validate_parameters=1, verbosity=None), MinMaxScaler(), SimpleImputer(strategy='median')] \n",
      " 0.7338416610480185 +- 0.023021170204883683\n",
      "[RandomForestClassifier(), MinMaxScaler(), SimpleImputer(strategy='median')] \n",
      " 0.6169524183640938 +- 0.03573832009590821\n",
      "[SVC(probability=True), MinMaxScaler(), SimpleImputer(strategy='median')] \n",
      " 0.7084850477120819 +- 0.027008082728312746\n",
      "[LogisticRegression(), MinMaxScaler(), SimpleImputer(strategy='median')] \n",
      " 0.8018068557110146 +- 0.01961149402972273\n"
     ]
    }
   ],
   "source": [
    "means = []\n",
    "stds = []\n",
    "X_test, Y_test = test[selected_features].values, test[task].values\n",
    "for predictors in all_predictors:\n",
    "    performance = []\n",
    "    for i in predictors:\n",
    "        performance.append(getMetrics(testX=X_test,testY=Y_test,metric=average_precision_score,models = i))\n",
    "    print (i,\"\\n\",np.mean(performance),\"+-\",np.std(performance))\n",
    "    means.append(np.mean(performance))\n",
    "    stds.append(np.std(performance))\n",
    "\n"
   ]
  },
  {
   "cell_type": "markdown",
   "metadata": {},
   "source": [
    "#### F1 Score"
   ]
  },
  {
   "cell_type": "code",
   "execution_count": 20,
   "metadata": {},
   "outputs": [
    {
     "name": "stdout",
     "output_type": "stream",
     "text": [
      "[XGBClassifier(base_score=0.5, booster='gbtree', colsample_bylevel=1,\n",
      "              colsample_bynode=1, colsample_bytree=0.9027676504163796, gamma=0,\n",
      "              gpu_id=-1, importance_type='gain', interaction_constraints='',\n",
      "              learning_rate=0.1299881198995753, max_delta_step=0, max_depth=2,\n",
      "              min_child_weight=4, missing=nan, monotone_constraints='()',\n",
      "              n_estimators=55, n_jobs=0, num_parallel_tree=1, random_state=0,\n",
      "              reg_alpha=0, reg_lambda=1, scale_pos_weight=1,\n",
      "              subsample=0.7783799971730078, tree_method='exact',\n",
      "              validate_parameters=1, verbosity=None), MinMaxScaler(), SimpleImputer(strategy='median')] \n",
      " 0.6372996700982129 +- 0.033718329182173865\n",
      "[RandomForestClassifier(), MinMaxScaler(), SimpleImputer(strategy='median')] \n",
      " 0.5586965743310359 +- 0.03904276467940977\n",
      "[SVC(probability=True), MinMaxScaler(), SimpleImputer(strategy='median')] \n",
      " 0.6585822697441673 +- 0.027439361950546862\n",
      "[LogisticRegression(), MinMaxScaler(), SimpleImputer(strategy='median')] \n",
      " 0.7109016495134601 +- 0.015242031471795868\n"
     ]
    }
   ],
   "source": [
    "means = []\n",
    "stds = []\n",
    "X_test, Y_test = test[selected_features].values, test[task].values\n",
    "for predictors in all_predictors:\n",
    "    performance = []\n",
    "    for i in predictors:\n",
    "        performance.append(getMetrics(testX=X_test,testY=Y_test,metric=f1_score,models = i))\n",
    "    print (i,\"\\n\",np.mean(performance),\"+-\",np.std(performance))\n",
    "    means.append(np.mean(performance))\n",
    "    stds.append(np.std(performance))\n",
    "\n"
   ]
  }
 ],
 "metadata": {
  "kernelspec": {
   "display_name": "covid-risk",
   "language": "python",
   "name": "covid-risk"
  },
  "language_info": {
   "codemirror_mode": {
    "name": "ipython",
    "version": 3
   },
   "file_extension": ".py",
   "mimetype": "text/x-python",
   "name": "python",
   "nbconvert_exporter": "python",
   "pygments_lexer": "ipython3",
   "version": "3.8.0"
  }
 },
 "nbformat": 4,
 "nbformat_minor": 4
}
